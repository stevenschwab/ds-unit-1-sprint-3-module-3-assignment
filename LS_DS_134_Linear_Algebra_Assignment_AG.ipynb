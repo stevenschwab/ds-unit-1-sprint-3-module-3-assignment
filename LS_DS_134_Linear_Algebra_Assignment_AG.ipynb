{
  "cells": [
    {
      "cell_type": "markdown",
      "metadata": {
        "deletable": false,
        "editable": false,
        "id": "iovQcSbqJl0_",
        "nbgrader": {
          "cell_type": "markdown",
          "checksum": "93edd8c60a281e5968601be9fd49efb7",
          "grade": false,
          "grade_id": "cell-74fad01fc2c9eae4",
          "locked": true,
          "schema_version": 3,
          "solution": false,
          "task": false
        }
      },
      "source": [
        "# Data Science - Unit 1 Sprint 3 Module 3\n",
        "\n",
        "## Module Project: Linear Algebra\n",
        "\n",
        "### Learning Objectives\n",
        "\n",
        "* define a vector and calculate a vector length and dot product\n",
        "* define a matrix and calculate a matrix dot product, transpose, and inverse\n",
        "* explain cosine similarity and compute the similarity between two vectors\n",
        "* use linear algebra to solve for linear regression coefficients\n",
        "\n",
        "### Total notebook points: 13"
      ]
    },
    {
      "cell_type": "markdown",
      "metadata": {
        "deletable": false,
        "editable": false,
        "id": "MHWnltybtm8_",
        "nbgrader": {
          "cell_type": "markdown",
          "checksum": "e482adbf03a6296fe5f8d2302fe30447",
          "grade": false,
          "grade_id": "cell-54dbfe7a7ac7a05e",
          "locked": true,
          "schema_version": 3,
          "solution": false,
          "task": false
        }
      },
      "source": [
        "## Part A: Introduction\n",
        "\n",
        "### Statistical significance between head size and brain weight in healthy adult humans\n",
        "\n",
        "The `Brainhead.csv` dataset provides information on 237 individuals who were subject to post-mortem examination at the Middlesex Hospital in London around the turn of the 20th century. Study authors used cadavers to see if a relationship between brain weight and other more easily measured physiological characterizes such as age, sex, and head size could be determined. The end goal was to develop a way to estimate a person’s brain size while they were still alive (as the living aren’t keen on having their brains taken out and weighed).\n",
        "\n",
        "**We wish to determine if we can improve on our model of the linear relationship between head size and brain weight in healthy human adults.**\n",
        "\n",
        "Source: R.J. Gladstone (1905). \"A Study of the Relations of the Brain to the Size of the Head\", Biometrika, Vol. 4, pp105-123.\n",
        "\n",
        "### Use the above information to complete the following tasks."
      ]
    },
    {
      "cell_type": "markdown",
      "metadata": {
        "id": "UP2jBCbXyjzl"
      },
      "source": [
        "**Task 1** - Load the data\n",
        "\n",
        "Let's load the data! The URL has been provided as well as the imports for pandas and numpy.\n",
        "\n",
        "* load your CSV file into a DataFrame named `df`"
      ]
    },
    {
      "cell_type": "code",
      "execution_count": 1,
      "metadata": {
        "colab": {
          "base_uri": "https://localhost:8080/",
          "height": 206
        },
        "deletable": false,
        "id": "0NKz1DvXQHqq",
        "nbgrader": {
          "cell_type": "code",
          "checksum": "9358a768662a02dc0b59e5014916f3fb",
          "grade": false,
          "grade_id": "cell-a7ff057c4c794df7",
          "locked": false,
          "schema_version": 3,
          "solution": true,
          "task": false
        },
        "outputId": "085c884d-9354-4b9d-c6ea-cddb0ed5f6b9"
      },
      "outputs": [
        {
          "output_type": "execute_result",
          "data": {
            "text/plain": [
              "   Gender  Age  Head  Brain\n",
              "0       1    1  4512   1530\n",
              "1       1    1  3738   1297\n",
              "2       1    1  4261   1335\n",
              "3       1    1  3777   1282\n",
              "4       1    1  4177   1590"
            ],
            "text/html": [
              "\n",
              "  <div id=\"df-9c0734fe-f67e-4549-8be4-2fc51f2f7f51\" class=\"colab-df-container\">\n",
              "    <div>\n",
              "<style scoped>\n",
              "    .dataframe tbody tr th:only-of-type {\n",
              "        vertical-align: middle;\n",
              "    }\n",
              "\n",
              "    .dataframe tbody tr th {\n",
              "        vertical-align: top;\n",
              "    }\n",
              "\n",
              "    .dataframe thead th {\n",
              "        text-align: right;\n",
              "    }\n",
              "</style>\n",
              "<table border=\"1\" class=\"dataframe\">\n",
              "  <thead>\n",
              "    <tr style=\"text-align: right;\">\n",
              "      <th></th>\n",
              "      <th>Gender</th>\n",
              "      <th>Age</th>\n",
              "      <th>Head</th>\n",
              "      <th>Brain</th>\n",
              "    </tr>\n",
              "  </thead>\n",
              "  <tbody>\n",
              "    <tr>\n",
              "      <th>0</th>\n",
              "      <td>1</td>\n",
              "      <td>1</td>\n",
              "      <td>4512</td>\n",
              "      <td>1530</td>\n",
              "    </tr>\n",
              "    <tr>\n",
              "      <th>1</th>\n",
              "      <td>1</td>\n",
              "      <td>1</td>\n",
              "      <td>3738</td>\n",
              "      <td>1297</td>\n",
              "    </tr>\n",
              "    <tr>\n",
              "      <th>2</th>\n",
              "      <td>1</td>\n",
              "      <td>1</td>\n",
              "      <td>4261</td>\n",
              "      <td>1335</td>\n",
              "    </tr>\n",
              "    <tr>\n",
              "      <th>3</th>\n",
              "      <td>1</td>\n",
              "      <td>1</td>\n",
              "      <td>3777</td>\n",
              "      <td>1282</td>\n",
              "    </tr>\n",
              "    <tr>\n",
              "      <th>4</th>\n",
              "      <td>1</td>\n",
              "      <td>1</td>\n",
              "      <td>4177</td>\n",
              "      <td>1590</td>\n",
              "    </tr>\n",
              "  </tbody>\n",
              "</table>\n",
              "</div>\n",
              "    <div class=\"colab-df-buttons\">\n",
              "\n",
              "  <div class=\"colab-df-container\">\n",
              "    <button class=\"colab-df-convert\" onclick=\"convertToInteractive('df-9c0734fe-f67e-4549-8be4-2fc51f2f7f51')\"\n",
              "            title=\"Convert this dataframe to an interactive table.\"\n",
              "            style=\"display:none;\">\n",
              "\n",
              "  <svg xmlns=\"http://www.w3.org/2000/svg\" height=\"24px\" viewBox=\"0 -960 960 960\">\n",
              "    <path d=\"M120-120v-720h720v720H120Zm60-500h600v-160H180v160Zm220 220h160v-160H400v160Zm0 220h160v-160H400v160ZM180-400h160v-160H180v160Zm440 0h160v-160H620v160ZM180-180h160v-160H180v160Zm440 0h160v-160H620v160Z\"/>\n",
              "  </svg>\n",
              "    </button>\n",
              "\n",
              "  <style>\n",
              "    .colab-df-container {\n",
              "      display:flex;\n",
              "      gap: 12px;\n",
              "    }\n",
              "\n",
              "    .colab-df-convert {\n",
              "      background-color: #E8F0FE;\n",
              "      border: none;\n",
              "      border-radius: 50%;\n",
              "      cursor: pointer;\n",
              "      display: none;\n",
              "      fill: #1967D2;\n",
              "      height: 32px;\n",
              "      padding: 0 0 0 0;\n",
              "      width: 32px;\n",
              "    }\n",
              "\n",
              "    .colab-df-convert:hover {\n",
              "      background-color: #E2EBFA;\n",
              "      box-shadow: 0px 1px 2px rgba(60, 64, 67, 0.3), 0px 1px 3px 1px rgba(60, 64, 67, 0.15);\n",
              "      fill: #174EA6;\n",
              "    }\n",
              "\n",
              "    .colab-df-buttons div {\n",
              "      margin-bottom: 4px;\n",
              "    }\n",
              "\n",
              "    [theme=dark] .colab-df-convert {\n",
              "      background-color: #3B4455;\n",
              "      fill: #D2E3FC;\n",
              "    }\n",
              "\n",
              "    [theme=dark] .colab-df-convert:hover {\n",
              "      background-color: #434B5C;\n",
              "      box-shadow: 0px 1px 3px 1px rgba(0, 0, 0, 0.15);\n",
              "      filter: drop-shadow(0px 1px 2px rgba(0, 0, 0, 0.3));\n",
              "      fill: #FFFFFF;\n",
              "    }\n",
              "  </style>\n",
              "\n",
              "    <script>\n",
              "      const buttonEl =\n",
              "        document.querySelector('#df-9c0734fe-f67e-4549-8be4-2fc51f2f7f51 button.colab-df-convert');\n",
              "      buttonEl.style.display =\n",
              "        google.colab.kernel.accessAllowed ? 'block' : 'none';\n",
              "\n",
              "      async function convertToInteractive(key) {\n",
              "        const element = document.querySelector('#df-9c0734fe-f67e-4549-8be4-2fc51f2f7f51');\n",
              "        const dataTable =\n",
              "          await google.colab.kernel.invokeFunction('convertToInteractive',\n",
              "                                                    [key], {});\n",
              "        if (!dataTable) return;\n",
              "\n",
              "        const docLinkHtml = 'Like what you see? Visit the ' +\n",
              "          '<a target=\"_blank\" href=https://colab.research.google.com/notebooks/data_table.ipynb>data table notebook</a>'\n",
              "          + ' to learn more about interactive tables.';\n",
              "        element.innerHTML = '';\n",
              "        dataTable['output_type'] = 'display_data';\n",
              "        await google.colab.output.renderOutput(dataTable, element);\n",
              "        const docLink = document.createElement('div');\n",
              "        docLink.innerHTML = docLinkHtml;\n",
              "        element.appendChild(docLink);\n",
              "      }\n",
              "    </script>\n",
              "  </div>\n",
              "\n",
              "\n",
              "    <div id=\"df-ee3c16b2-4ee7-4893-9d88-04d08c8d4091\">\n",
              "      <button class=\"colab-df-quickchart\" onclick=\"quickchart('df-ee3c16b2-4ee7-4893-9d88-04d08c8d4091')\"\n",
              "                title=\"Suggest charts\"\n",
              "                style=\"display:none;\">\n",
              "\n",
              "<svg xmlns=\"http://www.w3.org/2000/svg\" height=\"24px\"viewBox=\"0 0 24 24\"\n",
              "     width=\"24px\">\n",
              "    <g>\n",
              "        <path d=\"M19 3H5c-1.1 0-2 .9-2 2v14c0 1.1.9 2 2 2h14c1.1 0 2-.9 2-2V5c0-1.1-.9-2-2-2zM9 17H7v-7h2v7zm4 0h-2V7h2v10zm4 0h-2v-4h2v4z\"/>\n",
              "    </g>\n",
              "</svg>\n",
              "      </button>\n",
              "\n",
              "<style>\n",
              "  .colab-df-quickchart {\n",
              "      --bg-color: #E8F0FE;\n",
              "      --fill-color: #1967D2;\n",
              "      --hover-bg-color: #E2EBFA;\n",
              "      --hover-fill-color: #174EA6;\n",
              "      --disabled-fill-color: #AAA;\n",
              "      --disabled-bg-color: #DDD;\n",
              "  }\n",
              "\n",
              "  [theme=dark] .colab-df-quickchart {\n",
              "      --bg-color: #3B4455;\n",
              "      --fill-color: #D2E3FC;\n",
              "      --hover-bg-color: #434B5C;\n",
              "      --hover-fill-color: #FFFFFF;\n",
              "      --disabled-bg-color: #3B4455;\n",
              "      --disabled-fill-color: #666;\n",
              "  }\n",
              "\n",
              "  .colab-df-quickchart {\n",
              "    background-color: var(--bg-color);\n",
              "    border: none;\n",
              "    border-radius: 50%;\n",
              "    cursor: pointer;\n",
              "    display: none;\n",
              "    fill: var(--fill-color);\n",
              "    height: 32px;\n",
              "    padding: 0;\n",
              "    width: 32px;\n",
              "  }\n",
              "\n",
              "  .colab-df-quickchart:hover {\n",
              "    background-color: var(--hover-bg-color);\n",
              "    box-shadow: 0 1px 2px rgba(60, 64, 67, 0.3), 0 1px 3px 1px rgba(60, 64, 67, 0.15);\n",
              "    fill: var(--button-hover-fill-color);\n",
              "  }\n",
              "\n",
              "  .colab-df-quickchart-complete:disabled,\n",
              "  .colab-df-quickchart-complete:disabled:hover {\n",
              "    background-color: var(--disabled-bg-color);\n",
              "    fill: var(--disabled-fill-color);\n",
              "    box-shadow: none;\n",
              "  }\n",
              "\n",
              "  .colab-df-spinner {\n",
              "    border: 2px solid var(--fill-color);\n",
              "    border-color: transparent;\n",
              "    border-bottom-color: var(--fill-color);\n",
              "    animation:\n",
              "      spin 1s steps(1) infinite;\n",
              "  }\n",
              "\n",
              "  @keyframes spin {\n",
              "    0% {\n",
              "      border-color: transparent;\n",
              "      border-bottom-color: var(--fill-color);\n",
              "      border-left-color: var(--fill-color);\n",
              "    }\n",
              "    20% {\n",
              "      border-color: transparent;\n",
              "      border-left-color: var(--fill-color);\n",
              "      border-top-color: var(--fill-color);\n",
              "    }\n",
              "    30% {\n",
              "      border-color: transparent;\n",
              "      border-left-color: var(--fill-color);\n",
              "      border-top-color: var(--fill-color);\n",
              "      border-right-color: var(--fill-color);\n",
              "    }\n",
              "    40% {\n",
              "      border-color: transparent;\n",
              "      border-right-color: var(--fill-color);\n",
              "      border-top-color: var(--fill-color);\n",
              "    }\n",
              "    60% {\n",
              "      border-color: transparent;\n",
              "      border-right-color: var(--fill-color);\n",
              "    }\n",
              "    80% {\n",
              "      border-color: transparent;\n",
              "      border-right-color: var(--fill-color);\n",
              "      border-bottom-color: var(--fill-color);\n",
              "    }\n",
              "    90% {\n",
              "      border-color: transparent;\n",
              "      border-bottom-color: var(--fill-color);\n",
              "    }\n",
              "  }\n",
              "</style>\n",
              "\n",
              "      <script>\n",
              "        async function quickchart(key) {\n",
              "          const quickchartButtonEl =\n",
              "            document.querySelector('#' + key + ' button');\n",
              "          quickchartButtonEl.disabled = true;  // To prevent multiple clicks.\n",
              "          quickchartButtonEl.classList.add('colab-df-spinner');\n",
              "          try {\n",
              "            const charts = await google.colab.kernel.invokeFunction(\n",
              "                'suggestCharts', [key], {});\n",
              "          } catch (error) {\n",
              "            console.error('Error during call to suggestCharts:', error);\n",
              "          }\n",
              "          quickchartButtonEl.classList.remove('colab-df-spinner');\n",
              "          quickchartButtonEl.classList.add('colab-df-quickchart-complete');\n",
              "        }\n",
              "        (() => {\n",
              "          let quickchartButtonEl =\n",
              "            document.querySelector('#df-ee3c16b2-4ee7-4893-9d88-04d08c8d4091 button');\n",
              "          quickchartButtonEl.style.display =\n",
              "            google.colab.kernel.accessAllowed ? 'block' : 'none';\n",
              "        })();\n",
              "      </script>\n",
              "    </div>\n",
              "\n",
              "    </div>\n",
              "  </div>\n"
            ],
            "application/vnd.google.colaboratory.intrinsic+json": {
              "type": "dataframe",
              "variable_name": "df",
              "summary": "{\n  \"name\": \"df\",\n  \"rows\": 237,\n  \"fields\": [\n    {\n      \"column\": \"Gender\",\n      \"properties\": {\n        \"dtype\": \"number\",\n        \"std\": 0,\n        \"min\": 1,\n        \"max\": 2,\n        \"num_unique_values\": 2,\n        \"samples\": [\n          2,\n          1\n        ],\n        \"semantic_type\": \"\",\n        \"description\": \"\"\n      }\n    },\n    {\n      \"column\": \"Age\",\n      \"properties\": {\n        \"dtype\": \"number\",\n        \"std\": 0,\n        \"min\": 1,\n        \"max\": 2,\n        \"num_unique_values\": 2,\n        \"samples\": [\n          2,\n          1\n        ],\n        \"semantic_type\": \"\",\n        \"description\": \"\"\n      }\n    },\n    {\n      \"column\": \"Head\",\n      \"properties\": {\n        \"dtype\": \"number\",\n        \"std\": 365,\n        \"min\": 2720,\n        \"max\": 4747,\n        \"num_unique_values\": 221,\n        \"samples\": [\n          3302,\n          3853\n        ],\n        \"semantic_type\": \"\",\n        \"description\": \"\"\n      }\n    },\n    {\n      \"column\": \"Brain\",\n      \"properties\": {\n        \"dtype\": \"number\",\n        \"std\": 120,\n        \"min\": 955,\n        \"max\": 1635,\n        \"num_unique_values\": 146,\n        \"samples\": [\n          1330,\n          1334\n        ],\n        \"semantic_type\": \"\",\n        \"description\": \"\"\n      }\n    }\n  ]\n}"
            }
          },
          "metadata": {},
          "execution_count": 1
        }
      ],
      "source": [
        "# Task 1\n",
        "\n",
        "# Imports\n",
        "import pandas as pd\n",
        "\n",
        "# Dataset URL\n",
        "data_url = 'https://raw.githubusercontent.com/bloominstituteoftechnology/data-science-practice-datasets/main/unit_1/Brainhead/Brainhead.csv'\n",
        "\n",
        "# YOUR CODE HERE\n",
        "df = pd.read_csv(data_url)\n",
        "\n",
        "# Print out your DataFrame\n",
        "df.head()"
      ]
    },
    {
      "cell_type": "markdown",
      "metadata": {
        "id": "UZ645l24as2R"
      },
      "source": [
        "**Task 2**\n",
        "\n",
        "Store the response variable (brain size) as a matrix called Y.\n",
        "\n",
        "* Import numpy\n",
        "* Assign the `Brain` column to a matrix variable called `Y` which should be a `np.array` with dimensions `(237, 1)`\n",
        "* Print out your matrix shape to check the dimensions."
      ]
    },
    {
      "cell_type": "code",
      "execution_count": 2,
      "metadata": {
        "colab": {
          "base_uri": "https://localhost:8080/"
        },
        "deletable": false,
        "id": "UVhixZZZQfUw",
        "nbgrader": {
          "cell_type": "code",
          "checksum": "1d1bf8ec0a3d924f988de7a9caba9e2c",
          "grade": false,
          "grade_id": "cell-906b5526dbb03375",
          "locked": false,
          "schema_version": 3,
          "solution": true,
          "task": false
        },
        "outputId": "1eed751c-2ed0-4a9b-ceca-c7be74bbf565"
      },
      "outputs": [
        {
          "output_type": "stream",
          "name": "stdout",
          "text": [
            "Matrix Y shape:  (237, 1)\n"
          ]
        }
      ],
      "source": [
        "# Task 2\n",
        "\n",
        "# YOUR CODE HERE\n",
        "import numpy as np # np.array puts puts the values into an array\n",
        "Y = np.array(df['Brain']).reshape(-1, 1) # array of arrays\n",
        "# Y\n",
        "\n",
        "# Print your matrix\n",
        "print(\"Matrix Y shape: \", Y.shape)"
      ]
    },
    {
      "cell_type": "code",
      "execution_count": 3,
      "metadata": {
        "deletable": false,
        "editable": false,
        "id": "49ZkVHWVyjzm",
        "nbgrader": {
          "cell_type": "code",
          "checksum": "6e3f524dc2ed17c9f8ffce476332af8d",
          "grade": true,
          "grade_id": "cell-d16efc5b41a30644",
          "locked": true,
          "points": 1,
          "schema_version": 3,
          "solution": false,
          "task": false
        }
      },
      "outputs": [],
      "source": [
        "# Task 2 - Test\n",
        "\n",
        "assert Y.shape == (237, 1), \"Is your Y matrix of the correct shape?\"\n"
      ]
    },
    {
      "cell_type": "markdown",
      "metadata": {
        "id": "l_tU9rAlbhh4"
      },
      "source": [
        "**Task 3** - Create the X and Y matrices\n",
        "\n",
        "Store the explanatory variable (head size) as the matrix `X`.  Don't forget to include the **column of ones** for the intercept term (refer to the Guided Project notes if needed).\n",
        "\n",
        "* Create an `np.array` of ones with the name `ones`; it should be the same length as your DataFrame.\n",
        "* Create another `np.array` with the name `head`; it should have a shape of `(237, 1)`.\n",
        "* Combine the `ones` and `head` arrays to create your matrix and call it `X`; it should have a shape of `(237, 2)`"
      ]
    },
    {
      "cell_type": "code",
      "execution_count": 4,
      "metadata": {
        "colab": {
          "base_uri": "https://localhost:8080/"
        },
        "deletable": false,
        "id": "_fGlhvmTbJdV",
        "nbgrader": {
          "cell_type": "code",
          "checksum": "d682dd6f4aac2bacefca8262984a0d88",
          "grade": false,
          "grade_id": "cell-a73325dfcd0c8c47",
          "locked": false,
          "schema_version": 3,
          "solution": true,
          "task": false
        },
        "outputId": "2610e08f-d85c-447b-9187-5bf171f47483"
      },
      "outputs": [
        {
          "output_type": "stream",
          "name": "stdout",
          "text": [
            "(237, 2)\n"
          ]
        }
      ],
      "source": [
        "# Task 3\n",
        "\n",
        "# YOUR CODE HERE\n",
        "ones = np.ones(len(df)).reshape(-1, 1)\n",
        "# ones\n",
        "head = np.array(df['Head']).reshape(-1, 1)\n",
        "# head\n",
        "X = np.concatenate([ones, head], axis = 1)\n",
        "# X\n",
        "# Print your X matrix shape\n",
        "print(X.shape)"
      ]
    },
    {
      "cell_type": "code",
      "execution_count": 5,
      "metadata": {
        "deletable": false,
        "editable": false,
        "id": "RjY-9809yjzn",
        "nbgrader": {
          "cell_type": "code",
          "checksum": "865c1285b7a582be3f99187be7540e58",
          "grade": true,
          "grade_id": "cell-bc89267013875630",
          "locked": true,
          "points": 1,
          "schema_version": 3,
          "solution": false,
          "task": false
        }
      },
      "outputs": [],
      "source": [
        "# Task 3 - Test\n",
        "\n",
        "assert ones.shape == (237, 1), \"Is your ones matrix of the correct shape?\"\n",
        "assert head.shape == (237, 1), \"Is your 'head' matrix of the correct shape?\"\n",
        "assert X.shape == (237, 2), \"Is your X matrix of the correct shape?\"\n"
      ]
    },
    {
      "cell_type": "markdown",
      "metadata": {
        "id": "CTtxhF82ceG7"
      },
      "source": [
        "**Task 4** - Transpose of a matrix\n",
        "\n",
        "Calculate the transpose of X which is written as $X^T$.  \n",
        "\n",
        "* Calculate the transpose of `X` and assign it to the variable `X_T`.\n",
        "\n",
        "Explain what the transpose of a matrix is.\n",
        "\n",
        "A transposed matrix is one whose rows are the columns of the original and whose columns are the rows of the original.\n"
      ]
    },
    {
      "cell_type": "code",
      "execution_count": 6,
      "metadata": {
        "colab": {
          "base_uri": "https://localhost:8080/"
        },
        "deletable": false,
        "id": "m_Dd1ZbU335I",
        "nbgrader": {
          "cell_type": "code",
          "checksum": "712bbd01390c8b5e86868c45f0124046",
          "grade": false,
          "grade_id": "cell-77a8f3ab39997ded",
          "locked": false,
          "schema_version": 3,
          "solution": true,
          "task": false
        },
        "outputId": "0d8afdf5-8a34-4f41-836b-457b502ee3de"
      },
      "outputs": [
        {
          "output_type": "stream",
          "name": "stdout",
          "text": [
            "(2, 237)\n"
          ]
        }
      ],
      "source": [
        "# Task 4\n",
        "\n",
        "# YOUR CODE HERE\n",
        "X_T = np.transpose(X)\n",
        "# X_T\n",
        "# Print your transposed matrix shape\n",
        "print(X_T.shape)"
      ]
    },
    {
      "cell_type": "code",
      "execution_count": 7,
      "metadata": {
        "deletable": false,
        "editable": false,
        "id": "jzYyv8xpyjzo",
        "nbgrader": {
          "cell_type": "code",
          "checksum": "4646d3d8f77a047204be19706e5d51d2",
          "grade": true,
          "grade_id": "cell-c42371c469023c73",
          "locked": true,
          "points": 1,
          "schema_version": 3,
          "solution": false,
          "task": false
        }
      },
      "outputs": [],
      "source": [
        "# Task 4 - Test\n",
        "\n",
        "assert X_T.shape == (2, 237), \"Is your X_T matrix of the correct shape?\"\n"
      ]
    },
    {
      "cell_type": "markdown",
      "metadata": {
        "id": "GGng_b0CdJbV"
      },
      "source": [
        "**Task 5** - More matrix multiplication!\n",
        "\n",
        "Use matrix multiplication to calculate the transpose of X multiple by X, which is written as $X^TX$.\n",
        "\n",
        "* Assign the results of your calculation to the variable `X_T_X` which should be a `numpy.ndarray`."
      ]
    },
    {
      "cell_type": "code",
      "execution_count": 8,
      "metadata": {
        "colab": {
          "base_uri": "https://localhost:8080/"
        },
        "deletable": false,
        "id": "_cOjfx-wcvca",
        "nbgrader": {
          "cell_type": "code",
          "checksum": "f19943d0fc17e41d379caac4b5c9b9d7",
          "grade": false,
          "grade_id": "cell-c124802e72cb0884",
          "locked": false,
          "schema_version": 3,
          "solution": true,
          "task": false
        },
        "outputId": "ff9446e3-1901-4730-ad63-5d062b90cdc3"
      },
      "outputs": [
        {
          "output_type": "stream",
          "name": "stdout",
          "text": [
            "[[2.37000000e+02 8.61256000e+05]\n",
            " [8.61256000e+05 3.16128319e+09]]\n"
          ]
        }
      ],
      "source": [
        "# Task 5\n",
        "\n",
        "# YOUR CODE HERE\n",
        "X_T_X = np.dot(X_T, X)\n",
        "# print(type(X_T_X))\n",
        "\n",
        "# Look at your matrix\n",
        "print(X_T_X)"
      ]
    },
    {
      "cell_type": "code",
      "execution_count": 9,
      "metadata": {
        "deletable": false,
        "editable": false,
        "id": "iClDrC_Jyjzp",
        "nbgrader": {
          "cell_type": "code",
          "checksum": "b5b9ed22ebd4f8e9a4ef6ba8f9a6864f",
          "grade": true,
          "grade_id": "cell-abafc7210672e842",
          "locked": true,
          "points": 1,
          "schema_version": 3,
          "solution": false,
          "task": false
        }
      },
      "outputs": [],
      "source": [
        "# Task 5 - Test\n",
        "\n",
        "assert X_T_X.shape == (2, 2), \"Is your X_T_X matrix of the correct shape?\"\n"
      ]
    },
    {
      "cell_type": "markdown",
      "metadata": {
        "id": "xihZH2tIdWGc"
      },
      "source": [
        "**Task 6** - Continuing the matrix multiplication\n",
        "\n",
        "Calculate the inverse of the matrix you calculated in **Task 5**. This would be written as $(X^TX)^{-1}$.  \n",
        "\n",
        "* Assign your calculation to the variable `X_T_X_inv` which should be a `numpy.ndarray`.\n",
        "\n",
        "Explain what the inverse of a matrix is. You can use examples from other areas of math to illustrate.\n",
        "\n",
        "The inverse is like the reciprocal of the matrix that was used to generate it. It's another matrix that, when combined with the original matrix, gives you back the original thing, like pressing \"undo.\" So if $A$ were a matrix and $A^{-1}$ is the inverse, $A$ * $A^{-1}$ = I, where I is the identity matrix (like 1 for matrices, does nothing when applied). The inverse helps solve for the line's slope and intercept, like undoing the scrambling of your features.\n",
        "\n",
        "The equation for finding the inverse of a 2x2 matrix is as follows:\n",
        "\n",
        "\\begin{align}\n",
        "A = \\begin{bmatrix}\n",
        "a & b \\\\\n",
        "c & d\n",
        "\\end{bmatrix}\n",
        "\\qquad\n",
        "A^{-1} = \\frac{1}{ad-bc}\\begin{bmatrix}\n",
        "d & -b\\\\\n",
        "-c & a\n",
        "\\end{bmatrix}\n",
        "\\end{align}\n",
        "\n",
        "$\\qquad$\n",
        "\n",
        "$ad - bc$ is called the determinant. It's like checking if the matrix has an inverse (if $ad - bc$ = 0, there's no inverse, like a broken undo button).\n",
        "\n",
        "$\\frac{1}{ad - bc}$ scales the inverse, like adjusting the strength of the undo.\n",
        "\n",
        "\\begin{bmatrix}\n",
        "d & -b\\\\\n",
        "-c & a\n",
        "\\end{bmatrix} swaps $a$ and $d$, flips the sign of $b$ and $c$\n",
        "\n",
        "If you multiply $A * A^{-1}$ (using the dot product), you get the identiy matrix:\n",
        "\\begin{bmatrix}\n",
        "1 & 0\\\\\n",
        "0 & 1\n",
        "\\end{bmatrix}\n",
        "\n",
        "This mean $A^{-1}$ perfectly undoes $A$"
      ]
    },
    {
      "cell_type": "code",
      "execution_count": 10,
      "metadata": {
        "colab": {
          "base_uri": "https://localhost:8080/"
        },
        "deletable": false,
        "id": "WxOrKY9F391Z",
        "nbgrader": {
          "cell_type": "code",
          "checksum": "4f94fbee99a196cda21fdd2c8176e9f5",
          "grade": false,
          "grade_id": "cell-dbca155155dd78e0",
          "locked": false,
          "schema_version": 3,
          "solution": true,
          "task": false
        },
        "outputId": "2cc1946c-cbcc-4a70-9971-1da5c8b42d5e"
      },
      "outputs": [
        {
          "output_type": "stream",
          "name": "stdout",
          "text": [
            "[[ 4.23638519e-01 -1.15415543e-04]\n",
            " [-1.15415543e-04  3.17599920e-08]]\n"
          ]
        }
      ],
      "source": [
        "# Task 6\n",
        "\n",
        "# YOUR CODE HERE\n",
        "X_T_X_inv = np.linalg.inv(X_T_X)\n",
        "# print(type(X_T_X_inv))\n",
        "\n",
        "# Look at your matrix\n",
        "print(X_T_X_inv)"
      ]
    },
    {
      "cell_type": "code",
      "execution_count": 11,
      "metadata": {
        "deletable": false,
        "editable": false,
        "id": "FI4Z2mPcyjzq",
        "nbgrader": {
          "cell_type": "code",
          "checksum": "2a66278c668fed6670563bff1e429844",
          "grade": true,
          "grade_id": "cell-4a406a5447c57b7b",
          "locked": true,
          "points": 1,
          "schema_version": 3,
          "solution": false,
          "task": false
        }
      },
      "outputs": [],
      "source": [
        "# Task 6 - Test\n",
        "\n",
        "assert X_T_X_inv.shape == (2, 2), \"Is your X_T_X matrix of the correct shape?\"\n"
      ]
    },
    {
      "cell_type": "markdown",
      "metadata": {
        "id": "Z3-aBWcJdwlS"
      },
      "source": [
        "**Task 7** - More and more matrix multiplication\n",
        "\n",
        "Next, we'll continue with the matrix multiplication. Let's calculate the result of X transpose multiplied by Y which is written $X^TY$.\n",
        "\n",
        "* Assign your result to the variable `X_T_Y` which should be a `numpy.ndarray`."
      ]
    },
    {
      "cell_type": "code",
      "execution_count": 12,
      "metadata": {
        "colab": {
          "base_uri": "https://localhost:8080/"
        },
        "deletable": false,
        "id": "IzDRPF924FNk",
        "nbgrader": {
          "cell_type": "code",
          "checksum": "647c9c927a9fdfa490843a5b119818e5",
          "grade": false,
          "grade_id": "cell-41f2499b7e62a7d1",
          "locked": false,
          "schema_version": 3,
          "solution": true,
          "task": false
        },
        "outputId": "92a22500-63aa-49e3-eb98-b63e40c58a86"
      },
      "outputs": [
        {
          "output_type": "stream",
          "name": "stdout",
          "text": [
            "[[3.0404100e+05]\n",
            " [1.1131768e+09]]\n",
            "X_T_Y shape:  (2, 1)\n"
          ]
        }
      ],
      "source": [
        "# Task 7\n",
        "\n",
        "# YOUR CODE HERE\n",
        "X_T_Y = np.dot(X_T, Y)\n",
        "# print(type(X_T_Y))\n",
        "\n",
        "# Look at your matrix and the shape\n",
        "print(X_T_Y)\n",
        "print(\"X_T_Y shape: \", X_T_Y.shape)"
      ]
    },
    {
      "cell_type": "code",
      "execution_count": 13,
      "metadata": {
        "deletable": false,
        "editable": false,
        "id": "WJvopikhyjzr",
        "nbgrader": {
          "cell_type": "code",
          "checksum": "cf40df05590f7610120d70cf233c3dbc",
          "grade": true,
          "grade_id": "cell-ea720b65856a5c38",
          "locked": true,
          "points": 1,
          "schema_version": 3,
          "solution": false,
          "task": false
        }
      },
      "outputs": [],
      "source": [
        "# Task 7 - Test\n",
        "\n",
        "assert X_T_Y.shape == (2, 1), \"Is your X_T_Y matrix of the correct shape?\"\n"
      ]
    },
    {
      "cell_type": "markdown",
      "metadata": {
        "id": "uImjL8qgeDKS"
      },
      "source": [
        "**Task 8** - Calculate the slope and intercept\n",
        "\n",
        "Finally! We can calculate the slope and intercept from all of the matrix multiplication we just did.\n",
        "\n",
        "Use the results from your previous tasks to calculate the values of the slope and intercept using the formula $$ B = (X^{'}X)^{-1}X^{'}Y$$\n",
        "\n",
        "* Assign the results of your calculation to the variable `B` which should be a `numpy.ndarray`."
      ]
    },
    {
      "cell_type": "code",
      "execution_count": 19,
      "metadata": {
        "colab": {
          "base_uri": "https://localhost:8080/"
        },
        "deletable": false,
        "id": "ataF2sSMagfm",
        "nbgrader": {
          "cell_type": "code",
          "checksum": "bc7d4a1fe6c6c96bed50bb9a1189589b",
          "grade": false,
          "grade_id": "cell-21e02aaa9a371012",
          "locked": false,
          "schema_version": 3,
          "solution": true,
          "task": false
        },
        "outputId": "f708182c-4445-47b2-a4cf-03087039af80"
      },
      "outputs": [
        {
          "output_type": "stream",
          "name": "stdout",
          "text": [
            "[[3.25573421e+02]\n",
            " [2.63429339e-01]]\n",
            "The shape of B is:  (2, 1)\n"
          ]
        }
      ],
      "source": [
        "# Task 8\n",
        "\n",
        "# YOUR CODE HERE\n",
        "B = X_T_X_inv.dot(X_T_Y)\n",
        "# print(type(B))\n",
        "\n",
        "# Look at your matrix and the shape\n",
        "print(B)\n",
        "print(\"The shape of B is: \", B.shape)"
      ]
    },
    {
      "cell_type": "code",
      "execution_count": 20,
      "metadata": {
        "deletable": false,
        "editable": false,
        "id": "eCxp786tyjzs",
        "nbgrader": {
          "cell_type": "code",
          "checksum": "6fb14a304ca64ab5afa270da272b85f5",
          "grade": true,
          "grade_id": "cell-5a90535710ea5156",
          "locked": true,
          "points": 1,
          "schema_version": 3,
          "solution": false,
          "task": false
        }
      },
      "outputs": [],
      "source": [
        "# Task 8 - Test\n",
        "\n",
        "assert B.shape == (2, 1), \"Is your B matrix of the correct shape?\"\n"
      ]
    },
    {
      "cell_type": "markdown",
      "metadata": {
        "id": "58tEkd1YibRJ"
      },
      "source": [
        "**Task 9** - Verify the linear algebra calculations\n",
        "\n",
        "Now, we're going to verify our linear algebra calculations by fitting a linear model!\n",
        "\n",
        "We'll use the results of this linear model to compare to our calculated values for the slope and intercept.\n",
        "\n",
        "* Import the `statsmodels.formula.api` library and fit an `ols` model (enter the model in the format Y ~ X).\n",
        "* Assign your model to the variable `model`\n",
        "\n",
        "Compare your `model.params` output to the two values in the `B` matrix you calculated above - this isn't autograded, just a chance to see if the results agree."
      ]
    },
    {
      "cell_type": "code",
      "execution_count": 21,
      "metadata": {
        "colab": {
          "base_uri": "https://localhost:8080/"
        },
        "deletable": false,
        "id": "cAz2v2l27XQC",
        "nbgrader": {
          "cell_type": "code",
          "checksum": "eca497723cce5aa9c2ba21f2f65e6518",
          "grade": false,
          "grade_id": "cell-9d0238431c55d153",
          "locked": false,
          "schema_version": 3,
          "solution": true,
          "task": false
        },
        "outputId": "f73f94f9-8304-4207-850d-0ac1db49d1f4"
      },
      "outputs": [
        {
          "output_type": "stream",
          "name": "stdout",
          "text": [
            "Intercept    325.573421\n",
            "Head           0.263429\n",
            "dtype: float64\n"
          ]
        }
      ],
      "source": [
        "# Task 9\n",
        "\n",
        "# YOUR CODE HERE\n",
        "from statsmodels.formula.api import ols\n",
        "\n",
        "model = ols('Brain ~ Head', data = df).fit()\n",
        "\n",
        "print(model.params)"
      ]
    },
    {
      "cell_type": "code",
      "execution_count": 22,
      "metadata": {
        "deletable": false,
        "editable": false,
        "id": "Inp9-nX8yjzs",
        "nbgrader": {
          "cell_type": "code",
          "checksum": "c56b1852b4d8059aeee0058bd81ed8e1",
          "grade": true,
          "grade_id": "cell-c447fa0fd370c3e8",
          "locked": true,
          "points": 1,
          "schema_version": 3,
          "solution": false,
          "task": false
        }
      },
      "outputs": [],
      "source": [
        "# Task 9 - Test\n",
        "# Hidden tests - you will see the results when you submit to Canvas"
      ]
    },
    {
      "cell_type": "markdown",
      "metadata": {
        "id": "fldeKZQJiWJY"
      },
      "source": [
        "**Task 10** - Apply matrix calculations to the data\n",
        "\n",
        "Now that we've verified that our matrix calculations result in the same parameters as we fit with our model, let's practice using the matrix calculations with some of the data.\n",
        "\n",
        "Create a new X matrix that includes columns for both head size and age group.\n",
        "\n",
        "**Your tasks** (read carefully)\n",
        "\n",
        "* Create an array for the head size column 'Head' and assign it to the variable `head`; you should have a `numpy.ndarray`\n",
        "* Create a new column by subtracting `1` from each value in `df['Age']`; call this new column `Age_01`\n",
        "* Create an array from the 'Age_01' column and assign it to the variable `age`; this should be a `numpy.ndarray`\n",
        "* Concatenate the following three arrays and assign the result to the variable `X`: `ones`, `head`, `age` (use the `ones` array from Task 3)."
      ]
    },
    {
      "cell_type": "code",
      "execution_count": 30,
      "metadata": {
        "colab": {
          "base_uri": "https://localhost:8080/"
        },
        "deletable": false,
        "id": "p5k_g4HBkPvv",
        "nbgrader": {
          "cell_type": "code",
          "checksum": "f220a2702137065482c6d9eef5148223",
          "grade": false,
          "grade_id": "cell-697c74d2c03f2745",
          "locked": false,
          "schema_version": 3,
          "solution": true,
          "task": false
        },
        "outputId": "25b24060-1b5d-40ee-cce8-4834191c4492"
      },
      "outputs": [
        {
          "output_type": "stream",
          "name": "stdout",
          "text": [
            "Shape of the array:  (237, 3)\n",
            "The first five rows: \n",
            " [[1.000e+00 4.512e+03 0.000e+00]\n",
            " [1.000e+00 3.738e+03 0.000e+00]\n",
            " [1.000e+00 4.261e+03 0.000e+00]\n",
            " [1.000e+00 3.777e+03 0.000e+00]\n",
            " [1.000e+00 4.177e+03 0.000e+00]]\n"
          ]
        }
      ],
      "source": [
        "# Task 10\n",
        "\n",
        "# YOUR CODE HERE\n",
        "head = np.array(df['Head']).reshape(-1, 1)\n",
        "# head\n",
        "# type(head)\n",
        "\n",
        "df['Age_01'] = df['Age'] - 1\n",
        "\n",
        "age = np.array(df['Age_01']).reshape(-1, 1)\n",
        "# age\n",
        "# type(age)\n",
        "# df.head()\n",
        "\n",
        "X = np.concatenate([ones, head, age], axis = 1)\n",
        "# X\n",
        "\n",
        "# Print your results\n",
        "# Check the shape\n",
        "print(\"Shape of the array: \", X.shape)\n",
        "\n",
        "print(\"The first five rows: \\n\", X[:5])\n"
      ]
    },
    {
      "cell_type": "code",
      "execution_count": null,
      "metadata": {
        "id": "dduD50nMyCer"
      },
      "outputs": [],
      "source": []
    },
    {
      "cell_type": "code",
      "execution_count": 31,
      "metadata": {
        "deletable": false,
        "editable": false,
        "id": "HwaBWAItyjzt",
        "nbgrader": {
          "cell_type": "code",
          "checksum": "bd7c7a0e2d2f60d7f0cebff6bb8a4998",
          "grade": true,
          "grade_id": "cell-d0f61adaa94f1d10",
          "locked": true,
          "points": 1,
          "schema_version": 3,
          "solution": false,
          "task": false
        }
      },
      "outputs": [],
      "source": [
        "# Task 10 - Test\n",
        "\n",
        "assert head.shape == (237, 1), \"Is your 'head' matrix of the correct shape?\"\n",
        "assert age.shape == (237, 1), \"Is your 'age' matrix of the correct shape?\"\n",
        "assert X.shape == (237, 3), \"Is your X matrix of the correct shape?\"\n"
      ]
    },
    {
      "cell_type": "markdown",
      "metadata": {
        "id": "NaPLUX6P7eV6"
      },
      "source": [
        "**Task 11** - Calculate the slope and intercept\n",
        "\n",
        "Now, calculate the values of the intercept and slope terms for head size and age using the formula $$ B = (X^{'}X)^{-1}X^{'}Y$$\n",
        "\n",
        "* Break it down into smaller steps, in separate cells if needed\n",
        "* COMMENT all the steps, so you can troubleshoot if there is a mistake\n",
        "\n",
        "This task will not be autograded but verify your answers!"
      ]
    },
    {
      "cell_type": "code",
      "execution_count": 38,
      "metadata": {
        "colab": {
          "base_uri": "https://localhost:8080/"
        },
        "deletable": false,
        "id": "wffPKuJVkrCB",
        "nbgrader": {
          "cell_type": "code",
          "checksum": "b5a7750fdaacf386a163ee1cf159deb9",
          "grade": false,
          "grade_id": "cell-39de8514ffef8d10",
          "locked": false,
          "schema_version": 3,
          "solution": true,
          "task": false
        },
        "outputId": "8eb5cde2-6553-49ef-ce8f-a391d8e51fa4"
      },
      "outputs": [
        {
          "output_type": "stream",
          "name": "stdout",
          "text": [
            "[[ 3.47550501e+02]\n",
            " [ 2.60438766e-01]\n",
            " [-2.07316446e+01]]\n"
          ]
        }
      ],
      "source": [
        "# Task 11\n",
        "# B = (X'X)^-1 X'Y\n",
        "\n",
        "# YOUR CODE HERE\n",
        "X_T = np.transpose(X)\n",
        "# X_T\n",
        "X_T_X = np.dot(X_T, X)\n",
        "# X_T_X\n",
        "X_T_X_inv = np.linalg.inv(X_T_X)\n",
        "# X_T_X_inv\n",
        "X_T_Y = np.dot(X_T, Y)\n",
        "# X_T_Y\n",
        "B = X_T_X_inv.dot(X_T_Y)\n",
        "\n",
        "# Print your final result!\n",
        "print(B)"
      ]
    },
    {
      "cell_type": "markdown",
      "metadata": {
        "id": "m92gsZo-8TcP"
      },
      "source": [
        "**Task 12** - Verify the matrix calculation with a linear model\n",
        "\n",
        "We're going to fit another OLS model and then confirm our answer with what we calculated for `B` in **Task 11**\n",
        "\n",
        "* Fit an OLS model as you did above but your input will be in the two independent variables head size and age (your model input should be Y ~ X1 + X2). **Make sure to use `Head` for X1 and `Age_01` (not `C(Age_01)`, which would change the order of the ouput) for X2.**\n",
        "* Assign the model results to the variable `model2`.\n",
        "\n",
        "Compare your `model2.params` to the values you determined for `B` in Task 11 - do they match?"
      ]
    },
    {
      "cell_type": "code",
      "execution_count": 40,
      "metadata": {
        "colab": {
          "base_uri": "https://localhost:8080/"
        },
        "deletable": false,
        "id": "1k7mU2R-lGeL",
        "nbgrader": {
          "cell_type": "code",
          "checksum": "086f97215373ae43896a799705a2a6ad",
          "grade": false,
          "grade_id": "cell-8495052423ed2196",
          "locked": false,
          "schema_version": 3,
          "solution": true,
          "task": false
        },
        "outputId": "3d79c79b-c31e-4e89-84d3-5cca34febb52"
      },
      "outputs": [
        {
          "output_type": "stream",
          "name": "stdout",
          "text": [
            "Intercept    347.550501\n",
            "Head           0.260439\n",
            "Age_01       -20.731645\n",
            "dtype: float64\n"
          ]
        }
      ],
      "source": [
        "# Task 12\n",
        "\n",
        "# YOUR CODE HERE\n",
        "model2 = ols('Brain ~ Head + Age_01', data = df).fit()\n",
        "\n",
        "print(model2.params)"
      ]
    },
    {
      "cell_type": "markdown",
      "metadata": {
        "id": "IKKKfCAKyjzv"
      },
      "source": [
        "**Task 12 Test**"
      ]
    },
    {
      "cell_type": "code",
      "execution_count": 41,
      "metadata": {
        "deletable": false,
        "editable": false,
        "id": "oMCAB5hKyjzv",
        "nbgrader": {
          "cell_type": "code",
          "checksum": "cc8e9289ee31142cebc8ce495e584c62",
          "grade": true,
          "grade_id": "cell-0d0ec86caf1c2671",
          "locked": true,
          "points": 1,
          "schema_version": 3,
          "solution": false,
          "task": false
        }
      },
      "outputs": [],
      "source": [
        "# Task 12 - Test\n",
        "# Hidden tests - you will see the results when you submit to Canvas"
      ]
    },
    {
      "cell_type": "markdown",
      "metadata": {
        "id": "J10sSUChlzRH"
      },
      "source": [
        "## Part B: Cosine Similarity\n",
        "\n",
        "Use the following information to answer the remaining Tasks in the Module Project.\n",
        "\n",
        "The song writing collaboration between John Lennon and Paul McCartney was one of the most productive in music history.  Unlike many other partnerships where one individual wrote lyrics and one wrote music, Lennon and McCartney composed both, and it was decided that any song that was written would be credited to both.  In the beginning of their relationship, many of their songs were truly collaborative.  However, later on, they often worked separately with little to no input from the other.    \n",
        "\n",
        "Because of extensive reporting on the Beatles over the years, it is generally known if a Lennon-McCartney song was a true collaboration, primarily (or totally) written by Lennon, or primarily (or totally) written by McCartney.  \n",
        "\n",
        "**However, there are several disputed songs where both Lennon and McCartney at times claimed to be the sole (or primary) composer.**\n",
        "\n",
        "We will now use cosine similarity to determine if *Ticket to Ride* (disputed) is most similar to *From Me to You* (collaborative, not disputed) or *Strawberry Fields* (Lennon, not disputed).\n",
        "\n",
        "From the Wikipedia article on the Lennon-McCartney Partnership: Lennon said that McCartney's contribution was limited to \"the way Ringo played the drums\". In Many Years from Now, McCartney said \"we sat down and wrote it together ... give him 60 percent of it.\""
      ]
    },
    {
      "cell_type": "markdown",
      "metadata": {
        "id": "MVipjsqR9o5y"
      },
      "source": [
        "**Task 13** - Import all the song lyrics\n",
        "\n",
        "Import the text of \"Strawberry Fields\", \"From Me to You\", and \"Ticket to Ride\". The code has been provided for you - run the cell to see the output. For each set of lyrics, the word frequencies have also been calculated.\n",
        "\n",
        "**Run the following cell to load all the lyrics.**"
      ]
    },
    {
      "cell_type": "code",
      "execution_count": 45,
      "metadata": {
        "id": "6SuKxo-lYsCR"
      },
      "outputs": [],
      "source": [
        "# Task 13\n",
        "\n",
        "# RUN THIS CELL TO LOAD THE LYRICS\n",
        "\n",
        "# Strawberry Fields - John Lennon (not disputed)\n",
        "\n",
        "Strawberry_ = \"let me take you down cause Im going to Strawberry Fields nothing is real and nothing to get hung about Strawberry Fields forever living is easy with eyes closed misunderstanding all you see its getting hard to be someone but it all works out it doesnt matter much to me let me take you down cause Im going to Strawberry Fields nothing is real and nothing to get hung about Strawberry Fields forever no one I think is in my tree I mean it must be high or low that is you cant you know tune in but its all right that is I think its not too bad let me take you down cause Im going to Strawberry Fields nothing is real and nothing to get hung about Strawberry Fields forever always no sometimes think but you know I know when it's a dream I think er no I mean er yes but its all wrong that is I think I disagree let me take you down cause Im going to Strawberry Fields nothing is real and nothing to get hung about Strawberry Fields forever Strawberry Fields forever Strawberry Fields forever\"\n",
        "Strawberry_df = pd.DataFrame({\"Words\": Strawberry_.split()})\n",
        "Strawberry_df_freq = pd.DataFrame(pd.crosstab(index=Strawberry_df['Words'],columns='count'))\n",
        "\n",
        "# Uncomment to display\n",
        "#Strawberry_df_freq[0:50]\n",
        "\n",
        "\n",
        "# From Me to You - Lennon and McCartney (not disputed)\n",
        "\n",
        "Me_ = \"if there's anything that you want if there's anything I can do just call on me and Ill send it along with love from me to you Ive got everything that you want like a heart thats oh so true just call on me and Ill send it along with love from me to you Ive got arms that long to hold you and keep you by my side Ive got lips that long to kiss you and keep you satisfied oh if theres anything that you want if theres anything I can do just call on me and Ill send it along with love from me to you from me to you just call on me and Ill send it along with love from me to you Ive got arms that long to hold you and keep you by my side Ive got lips that long to kiss you and keep you satisfied oh if theres anything that you want if theres anything I can do just call on me and Ill send it along with love from me to you to you to you to you\"\n",
        "Me_df = pd.DataFrame({\"Words\": Me_.split()})\n",
        "Me_df_freq = pd.DataFrame(pd.crosstab(index=Me_df['Words'],columns='count'))\n",
        "\n",
        "# Uncomment to display\n",
        "#Me_df_freq[0:50]\n",
        "\n",
        "\n",
        "# Ticket to Ride (disputed)\n",
        "\n",
        "Ticket_ = \"I think Im gonna be sad I think its today yeah the girl thats driving me mad is going away shes got a ticket to ride shes got a ticket to ride shes got a ticket to ride but she dont care she said that living with me is bringing her down yeah for she would never be free when I was around shes got a ticket to ride shes got a ticket to ride shes got a ticket to ride but she dont care I dont know why shes ridin so high she ought to think twice she ought to do right by me before she gets to saying goodbye she ought to think twice she ought to do right by me I think Im gonna be sad I think its today yeah the girl thats driving me mad is going away yeah shes got a ticket to ride shes got a ticket to ride shes got a ticket to ride but she dont care I dont know why shes ridin so high she ought to think twice she ought to do right by me before she gets to saying goodbye she ought to think twice she ought to do right by me she said that living with me is bringing her down yeah for she would never be free when I was around ah shes got a ticket to ride shes got a ticket to ride shes got a ticket to ride but she dont care my baby dont care my baby dont care my baby dont care my baby dont care my baby dont care my baby dont care\"\n",
        "Ticket_df = pd.DataFrame({\"Words\": Ticket_.split()})\n",
        "Ticket_df_freq = pd.DataFrame(pd.crosstab(index=Ticket_df['Words'],columns='count'))\n",
        "\n",
        "# Uncomment to display\n",
        "# Ticket_df_freq[0:50]"
      ]
    },
    {
      "cell_type": "markdown",
      "metadata": {
        "id": "c8ieic21sH4j"
      },
      "source": [
        "**Task 14** - Cosine similarity calculations\n",
        "\n",
        "Now it's your turn to complete some linear algebra calculations! In this task, we need to concatenate \"Ticket to Ride\" and \"Strawberry Fields\" and calculate the cosine similarity. Two linear algebra imports have been provided\n",
        "\n",
        "* Concatenate `Strawberry_df_freq` and `Ticket_df_freq` to create a new DataFrame.\n",
        "* Assign your final result to `cos_sim_1`; your final answer should be a float.\n",
        "\n",
        "Hint: you might need to use `.fillna()` on your DataFrame"
      ]
    },
    {
      "cell_type": "code",
      "execution_count": 53,
      "metadata": {
        "colab": {
          "base_uri": "https://localhost:8080/"
        },
        "deletable": false,
        "id": "5GYIQ3jf88MI",
        "nbgrader": {
          "cell_type": "code",
          "checksum": "618cdc64dc71d76a18b08ad64c49bf49",
          "grade": false,
          "grade_id": "cell-89be8f6da1a6c0b4",
          "locked": false,
          "schema_version": 3,
          "solution": true,
          "task": false
        },
        "outputId": "c4f8db6f-e8e7-4ea7-cbc4-38321745151c"
      },
      "outputs": [
        {
          "output_type": "stream",
          "name": "stdout",
          "text": [
            "0.324035859004908\n"
          ]
        }
      ],
      "source": [
        "# Task 14\n",
        "# Compare 'Strawberry Fields' to 'Ticket to Ride'\n",
        "\n",
        "# Imports for linear algebra\n",
        "from numpy import dot\n",
        "from numpy.linalg import norm\n",
        "\n",
        "# YOUR CODE HERE\n",
        "dfs = [Strawberry_df_freq, Ticket_df_freq]\n",
        "all_words1 = pd.concat(dfs, axis = 1)\n",
        "# straw_ticket_all_words\n",
        "all_words1 = all_words1.fillna(0)\n",
        "# straw_ticket_all_words\n",
        "all_words1.columns = ['Strawberry_Fields', 'Ticket_To_Ride']\n",
        "# straw_ticket_all_words\n",
        "cos_sim_1 = dot(all_words1['Strawberry_Fields'], all_words1['Ticket_To_Ride']) / (norm(all_words1['Strawberry_Fields']) * norm(all_words1['Ticket_To_Ride']))\n",
        "\n",
        "# Print out your result\n",
        "print(cos_sim_1)"
      ]
    },
    {
      "cell_type": "code",
      "execution_count": 52,
      "metadata": {
        "deletable": false,
        "editable": false,
        "id": "Zl1rwWmVyjzx",
        "nbgrader": {
          "cell_type": "code",
          "checksum": "0812df9be219e1c96fa1176c02725fbd",
          "grade": true,
          "grade_id": "cell-faaa0f234f570442",
          "locked": true,
          "points": 1,
          "schema_version": 3,
          "solution": false,
          "task": false
        }
      },
      "outputs": [],
      "source": [
        "# Task 14 - Test\n",
        "# Hidden tests - you will see the results when you submit to Canvas"
      ]
    },
    {
      "cell_type": "markdown",
      "metadata": {
        "id": "JCFn7l2XCefQ"
      },
      "source": [
        "**Task 15** - More cosine similarity calculations\n",
        "\n",
        "Now, we'll compare \"Ticket to Ride\" and \"From Me to You\" and calculate the cosine similarity.\n",
        "\n",
        "* Concatenate `Ticket_df_freq` and `Me_df_freq` to create a new DataFrame.\n",
        "* Assign your final result to `cos_sim_2`; your final answer should be a float.\n",
        "\n",
        "Hint: you might need to use `.fillna()` on your DataFrame"
      ]
    },
    {
      "cell_type": "code",
      "execution_count": 55,
      "metadata": {
        "colab": {
          "base_uri": "https://localhost:8080/"
        },
        "deletable": false,
        "id": "uoj2UbIBCbJ5",
        "nbgrader": {
          "cell_type": "code",
          "checksum": "77d7bdc265f9623a1c6d70af01d7c514",
          "grade": false,
          "grade_id": "cell-35139e519c598a55",
          "locked": false,
          "schema_version": 3,
          "solution": true,
          "task": false
        },
        "outputId": "2657943e-bddc-4e91-d24c-ab9cebe8dbf5"
      },
      "outputs": [
        {
          "output_type": "stream",
          "name": "stdout",
          "text": [
            "0.2882268853551227\n"
          ]
        }
      ],
      "source": [
        "# Task 15\n",
        "# Compare From Me to You to Ticket to Ride\n",
        "\n",
        "# YOUR CODE HERE\n",
        "dfs2 = [Ticket_df_freq, Me_df_freq]\n",
        "all_words2 = pd.concat(dfs2, axis = 1)\n",
        "all_words2 = all_words2.fillna(0)\n",
        "all_words2.columns = ['Ticket_To_Ride', 'From_Me_To_You']\n",
        "# all_words2\n",
        "cos_sim_2 = dot(all_words2['Ticket_To_Ride'], all_words2['From_Me_To_You']) / (norm(all_words2['Ticket_To_Ride']) * norm(all_words2['From_Me_To_You']))\n",
        "\n",
        "# Print out your result\n",
        "print(cos_sim_2)"
      ]
    },
    {
      "cell_type": "code",
      "execution_count": 56,
      "metadata": {
        "deletable": false,
        "editable": false,
        "id": "kQIWgcn5yjzx",
        "nbgrader": {
          "cell_type": "code",
          "checksum": "931c21fd5a8b37380d8f911f8297d4be",
          "grade": true,
          "grade_id": "cell-690e43451c978a2f",
          "locked": true,
          "points": 1,
          "schema_version": 3,
          "solution": false,
          "task": false
        }
      },
      "outputs": [],
      "source": [
        "# Task 15 - Test\n",
        "# Hidden tests - you will see the results when you submit to Canvas"
      ]
    },
    {
      "cell_type": "markdown",
      "metadata": {
        "id": "hJ-wIIvzuBaV"
      },
      "source": [
        "**Summary**\n",
        "  Select the best answer b\n",
        "\n",
        "ANSWER:"
      ]
    },
    {
      "cell_type": "markdown",
      "metadata": {
        "id": "TEMavWb0xBqz"
      },
      "source": [
        "**Task 16** - Summary\n",
        "\n",
        "\n",
        "What is your conclusion about \"Ticket to Ride\"?  Does it appear most similar to \"Strawberry Fields\" (Lennon) or \"From Me to You\" (collaborative)?\n",
        "\n",
        "Select the answer that best describes the best answer. Specify your answer in the next code block using `Answer = `.  For example, if the correct answer is choice B, you'll type `Answer = 'B'`.\n",
        "\n",
        "A: Ticket to Ride is most similar to Strawberry Fields\n",
        "\n",
        "B: Ticket to Ride is most similar to From Me to You\n",
        "\n",
        "C: Ticket to Ride is equally similar to both songs\n",
        "\n",
        "D: Tickt to Ride was probably not written beither by John Lennon or collaboratively."
      ]
    },
    {
      "cell_type": "code",
      "execution_count": 57,
      "metadata": {
        "deletable": false,
        "id": "WBRJLy-mxBrA",
        "nbgrader": {
          "cell_type": "code",
          "checksum": "ce21bb965f585f1d9048ba83255735c2",
          "grade": false,
          "grade_id": "cell-6b9a56b997acc63d",
          "locked": false,
          "schema_version": 3,
          "solution": true,
          "task": false
        }
      },
      "outputs": [],
      "source": [
        "# Task 16\n",
        "\n",
        "# YOUR CODE HERE\n",
        "Answer = 'A'"
      ]
    },
    {
      "cell_type": "markdown",
      "metadata": {
        "id": "WQQxN3WfxBrB"
      },
      "source": [
        "**Task 16 Test**"
      ]
    },
    {
      "cell_type": "code",
      "execution_count": 58,
      "metadata": {
        "deletable": false,
        "editable": false,
        "id": "Uij_qEDkxBrB",
        "nbgrader": {
          "cell_type": "code",
          "checksum": "6976e28ec214b79b00145b17003fb995",
          "grade": true,
          "grade_id": "cell-3970fbb1a3eaefb5",
          "locked": true,
          "points": 1,
          "schema_version": 3,
          "solution": false,
          "task": false
        }
      },
      "outputs": [],
      "source": [
        "# Task 16 - Test\n",
        "# Hidden tests - you will see the results when you submit to Canvas"
      ]
    }
  ],
  "metadata": {
    "colab": {
      "name": "LS_DS_134_Linear_Algebra_Assignment_AG.ipynb",
      "provenance": []
    },
    "kernelspec": {
      "display_name": "Python 3",
      "language": "python",
      "name": "python3"
    },
    "language_info": {
      "codemirror_mode": {
        "name": "ipython",
        "version": 3
      },
      "file_extension": ".py",
      "mimetype": "text/x-python",
      "name": "python",
      "nbconvert_exporter": "python",
      "pygments_lexer": "ipython3",
      "version": "3.8.8"
    }
  },
  "nbformat": 4,
  "nbformat_minor": 0
}